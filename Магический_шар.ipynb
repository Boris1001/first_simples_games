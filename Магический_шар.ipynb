{
  "nbformat": 4,
  "nbformat_minor": 0,
  "metadata": {
    "colab": {
      "name": "Магический шар.ipynb",
      "provenance": [],
      "collapsed_sections": [],
      "authorship_tag": "ABX9TyPkqqnS2s96jwvHnN0+AUrU",
      "include_colab_link": true
    },
    "kernelspec": {
      "name": "python3",
      "display_name": "Python 3"
    },
    "language_info": {
      "name": "python"
    }
  },
  "cells": [
    {
      "cell_type": "markdown",
      "metadata": {
        "id": "view-in-github",
        "colab_type": "text"
      },
      "source": [
        "<a href=\"https://colab.research.google.com/github/Boris1001/first_simples_games/blob/main/%D0%9C%D0%B0%D0%B3%D0%B8%D1%87%D0%B5%D1%81%D0%BA%D0%B8%D0%B9_%D1%88%D0%B0%D1%80.ipynb\" target=\"_parent\"><img src=\"https://colab.research.google.com/assets/colab-badge.svg\" alt=\"Open In Colab\"/></a>"
      ]
    },
    {
      "cell_type": "code",
      "execution_count": null,
      "metadata": {
        "colab": {
          "base_uri": "https://localhost:8080/"
        },
        "id": "_TmTJ3YbVT_3",
        "outputId": "2f35a446-da0e-478e-a62f-99f6614a1ac4"
      },
      "outputs": [
        {
          "output_type": "stream",
          "name": "stdout",
          "text": [
            "Привет Мир, я магический шар, и я знаю ответ на любой твой вопрос.\n",
            "\n",
            "Как тебя зовут?\n",
            "123\n",
            "Здравствуй 123!\n",
            "\n",
            "Задай вопрос с ответом на да или нет\n",
            "vfv\n",
            "\n",
            "Знаки говорят - да\n",
            "\n",
            "123, хочешь спросить ещё?\n",
            "да\n",
            "\n",
            "Давай попробуем ещё раз )\n",
            "Задай вопрос с ответом на да или нет\n",
            "ываыа\n",
            "\n",
            "Сейчас нельзя предсказать\n",
            "\n",
            "123, хочешь спросить ещё?\n",
            "нет\n",
            "Возвращайся если возникнут вопросы. Я всегда здесь!\n"
          ]
        }
      ],
      "source": [
        "import random\n",
        "\n",
        "name = ''                                    # Имя пользователя  \n",
        "\n",
        "# ------------------------------------\n",
        "# Список с ответами\n",
        "\n",
        "answers = ['Бесспорно', 'Мне кажется - да', 'Пока не ясно, попробуй снова', 'Даже не думай', \n",
        "'Предрешено', 'Вероятнее всего', 'Спроси позже', 'Мой ответ - нет', 'Никаких сомнений', \n",
        "'Хорошие перспективы', 'Лучше не рассказывать', 'По моим данным - нет', 'Определённо да', \n",
        "'Знаки говорят - да', 'Сейчас нельзя предсказать', 'Перспективы не очень хорошие', \n",
        "'Можешь быть уверен в этом', 'Да', 'Сконцентрируйся и спроси опять', 'Весьма сомнительно']\n",
        "\n",
        "# ------------------------------------\n",
        "# Функция приветстсвия и ввода имени\n",
        "\n",
        "def start():\n",
        "  print('Привет Мир, я магический шар, и я знаю ответ на любой твой вопрос.')\n",
        "  print()\n",
        "  print('Как тебя зовут?')\n",
        "  name = input() \n",
        "  print(f'Здравствуй {name}!')\n",
        "  print()\n",
        "  return name\n",
        "\n",
        "\n",
        "# ------------------------------------\n",
        "# Функия выбора ответа\n",
        "\n",
        "def choice(a):\n",
        "  num_answ = random.randint(1,20)\n",
        "  print()\n",
        "  print(a[num_answ])\n",
        "\n",
        "# ------------------------------------\n",
        "# Функция ответа\n",
        "\n",
        "def answer():\n",
        "  flag = False                                 # Флаг окончания цикла\n",
        "\n",
        "  while flag == False:\n",
        "    print('Задай вопрос с ответом на да или нет')\n",
        "    quest = input()\n",
        "    choice(answers)\n",
        "    print()\n",
        "    print(f'{name}, хочешь спросить ещё?')\n",
        "    while True:\n",
        "        a = input()\n",
        "        if 'нет' in a:\n",
        "          print('Возвращайся если возникнут вопросы. Я всегда здесь!')\n",
        "          flag = True\n",
        "          break\n",
        "        elif 'да' in a:\n",
        "          print()\n",
        "          print('Давай попробуем ещё раз )')\n",
        "          flag == False\n",
        "          break\n",
        "        else:\n",
        "          print('Я понимаю только \"да\" или \"нет\"')\n",
        "\n",
        "# ------------------------------------\n",
        "\n",
        "name = start()\n",
        "answer()\n",
        "    "
      ]
    }
  ]
}