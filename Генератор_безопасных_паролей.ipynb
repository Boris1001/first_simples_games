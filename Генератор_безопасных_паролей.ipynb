{
  "nbformat": 4,
  "nbformat_minor": 0,
  "metadata": {
    "colab": {
      "name": "Генератор безопасных паролей.ipynb",
      "provenance": [],
      "collapsed_sections": [],
      "authorship_tag": "ABX9TyMHTqxFUFKA53dB8IAHur3j",
      "include_colab_link": true
    },
    "kernelspec": {
      "name": "python3",
      "display_name": "Python 3"
    },
    "language_info": {
      "name": "python"
    }
  },
  "cells": [
    {
      "cell_type": "markdown",
      "metadata": {
        "id": "view-in-github",
        "colab_type": "text"
      },
      "source": [
        "<a href=\"https://colab.research.google.com/github/Boris1001/first_simples_games/blob/main/%D0%93%D0%B5%D0%BD%D0%B5%D1%80%D0%B0%D1%82%D0%BE%D1%80_%D0%B1%D0%B5%D0%B7%D0%BE%D0%BF%D0%B0%D1%81%D0%BD%D1%8B%D1%85_%D0%BF%D0%B0%D1%80%D0%BE%D0%BB%D0%B5%D0%B9.ipynb\" target=\"_parent\"><img src=\"https://colab.research.google.com/assets/colab-badge.svg\" alt=\"Open In Colab\"/></a>"
      ]
    },
    {
      "cell_type": "code",
      "source": [
        "import random\n",
        "\n",
        "digits = '0123456789'\n",
        "lowercase_letters = 'abcdefghijklmnopqrstuvwxyz'\n",
        "uppercase_letters = 'ABCDEFGHIJKLMNOPQRSTUVWXYZ'\n",
        "punctuation = '!#$%&*+-=?@^_'\n",
        "amb_symbol = 'il1Lo0O'\n",
        "\n",
        "questions_1 = 'Сколько нужно паролей?'\n",
        "questions_2 = 'Сколько символов должно быть в пароле?'\n",
        "questions_3 = 'Исключать ли неоднозначные символы?'\n",
        "questions = ['Включать ли цифры?',\n",
        "             'Включать ли строчные буквы?',\n",
        "             'Включать ли прописные буквы?', \n",
        "             'Включать ли символы?']\n",
        "\n",
        "symbols = list()\n",
        "symbols.append(digits)\n",
        "symbols.append(lowercase_letters)\n",
        "symbols.append(uppercase_letters)\n",
        "symbols.append(punctuation)\n",
        "\n",
        "#psw_quantity = input('Сколько нужно паролей?\\n')                               # количество паролей\n",
        "#psw_length = input('Сколько символов должно быть в пароле?\\n')                 # длина паролей\n",
        "\n",
        "\n",
        "#psw_low_let = input('Включать ли строчные буквы?\\n')\n",
        "#psw_up_let = input('Включать ли прописные буквы?\\n')\n",
        "#psw_symbol = input('Включать ли символы?\\n')\n",
        "#psw_amb_symbol = input('Исключать ли неоднозначные символы? (il1Lo0O)\\n')\n",
        "\n",
        "# ------------------------------------------------------------------\n",
        "# Функция проверки числа на int. Возвращает int\n",
        "def f_isdigit(a):\n",
        "  flag = False\n",
        "  while flag == False:\n",
        "    s = input(f'{a} \\n')\n",
        "    if s.isdigit() and s != '0':\n",
        "      return int(s)\n",
        "      flag = True\n",
        "    else:\n",
        "      print('Только циферки больше нуля')\n",
        "\n",
        "# ------------------------------------------------------------------\n",
        "# функция проверки вопроса на да/нет. Возвращает да/нет\n",
        "\n",
        "def yes_no(a):\n",
        "    flag3 = False\n",
        "    while flag3 == False:\n",
        "        s = input(f'{a} \\n').lower()\n",
        "        if 'да' in s:\n",
        "            return 'да'\n",
        "            flag3 = True\n",
        "        elif 'нет' in s:\n",
        "            return 'нет'\n",
        "            flag3 = True\n",
        "        else:\n",
        "            print('Понимаю только \"да\" или \"нет\"')\n",
        "\n",
        "\n",
        "# ------------------------------------------------------------------\n",
        "# функция выбора символов\n",
        "\n",
        "\n",
        "def fill_chars(question):\n",
        "  chars = list()                                                                \n",
        "  answers = list()                                                              # ответы пользователя (локальные)\n",
        "  counter = 0\n",
        "  flag = False\n",
        "  while flag == False:\n",
        "    [answers.append(yes_no(questions[i])) for i in range(len(questions))]\n",
        "    for i in range(len(answers)):\n",
        "      if answers[i] == 'да':\n",
        "        chars.extend(symbols[i])\n",
        "      elif answers[i] == 'нет':\n",
        "        counter += 1\n",
        "    if counter == len(questions):\n",
        "      print('Из чего ж тогда делать???')\n",
        "      break\n",
        "    if yes_no(questions_3) == 'да':\n",
        "        for j in range(len(amb_symbol)):\n",
        "          if amb_symbol[j] in chars:\n",
        "            chars.remove(amb_symbol[j])\n",
        "    result = ''.join(chars)\n",
        "    return result\n",
        "    flag = True\n",
        "\n",
        "\n",
        "# -------------------------------------------------------------------\n",
        "# Функция генерации пароля\n",
        "\n",
        "\n",
        "def generate_password(length, chars):\n",
        "  psw = list()\n",
        "  for i in range(length):\n",
        "    num = random.randint(0, len(chars) - 1)\n",
        "    psw.append(chars[num])\n",
        "  result = ''.join(psw)\n",
        "  return result\n",
        "\n",
        "# -------------------------------------------------------------------\n",
        "# Функция сборки\n",
        "\n",
        "def gen():\n",
        "  a = 'Погенерим ещё? )'\n",
        "  psw = list()\n",
        "  flag = False\n",
        "  greeting = 'Добро пожаловать в генератор паролей!'\n",
        "  while flag == False:\n",
        "    print(\"*\" * (len(greeting) + 4))\n",
        "    print(f'* {greeting} *')\n",
        "    print(\"*\" * (len(greeting) + 4))\n",
        "    psw_quantity = f_isdigit(questions_1)                                       # количество паролей\n",
        "    length = f_isdigit(questions_2)                                             # длина паролей\n",
        "    chars = fill_chars(question)                                                # список символов\n",
        "    for i in range(1, psw_quantity + 1):\n",
        "      psw.append(generate_password(length, chars))\n",
        "    print('Ваши пароли:')\n",
        "    print()\n",
        "    print(*psw, sep= '\\n')\n",
        "    print()\n",
        "    if yes_no(a) == 'да':\n",
        "      print()\n",
        "      print('Понеслась!')\n",
        "      print()\n",
        "    elif yes_no(a) == 'нет':\n",
        "      flag = True\n",
        "  print('Ваши пароли:')\n",
        "  print(*psw, sep= '\\n')"
      ],
      "metadata": {
        "id": "crCQJS97eRKB"
      },
      "execution_count": null,
      "outputs": []
    },
    {
      "cell_type": "code",
      "source": [
        "gen()"
      ],
      "metadata": {
        "colab": {
          "base_uri": "https://localhost:8080/",
          "height": 1000
        },
        "id": "QMXaNF9hJk_l",
        "outputId": "8bb01b92-59a9-49c8-d1fe-79c8804d3657"
      },
      "execution_count": null,
      "outputs": [
        {
          "output_type": "stream",
          "name": "stdout",
          "text": [
            "*****************************************\n",
            "* Добро пожаловать в генератор паролей! *\n",
            "*****************************************\n",
            "Сколько нужно паролей? \n",
            "5\n",
            "Сколько символов должно быть в пароле? \n",
            "6\n",
            "Включать ли цифры? \n",
            "да\n",
            "Включать ли строчные буквы? \n",
            "да\n",
            "Включать ли прописные буквы? \n",
            "да\n",
            "Включать ли символы? \n",
            "да\n",
            "Исключать ли неоднозначные символы? \n",
            "нет\n",
            "Ваши пароли:\n",
            "kcOaA_\n",
            "NZz#tW\n",
            "K0Q%Q-\n",
            "I5d_mM\n",
            "coVe_@\n",
            "Погенерим ещё? ) \n",
            "да\n",
            "Понеслась!\n",
            "\n",
            "*****************************************\n",
            "* Добро пожаловать в генератор паролей! *\n",
            "*****************************************\n"
          ]
        },
        {
          "output_type": "error",
          "ename": "KeyboardInterrupt",
          "evalue": "ignored",
          "traceback": [
            "\u001b[0;31m---------------------------------------------------------------------------\u001b[0m",
            "\u001b[0;31mKeyboardInterrupt\u001b[0m                         Traceback (most recent call last)",
            "\u001b[0;32m/usr/local/lib/python3.7/dist-packages/ipykernel/kernelbase.py\u001b[0m in \u001b[0;36m_input_request\u001b[0;34m(self, prompt, ident, parent, password)\u001b[0m\n\u001b[1;32m    728\u001b[0m             \u001b[0;32mtry\u001b[0m\u001b[0;34m:\u001b[0m\u001b[0;34m\u001b[0m\u001b[0;34m\u001b[0m\u001b[0m\n\u001b[0;32m--> 729\u001b[0;31m                 \u001b[0mident\u001b[0m\u001b[0;34m,\u001b[0m \u001b[0mreply\u001b[0m \u001b[0;34m=\u001b[0m \u001b[0mself\u001b[0m\u001b[0;34m.\u001b[0m\u001b[0msession\u001b[0m\u001b[0;34m.\u001b[0m\u001b[0mrecv\u001b[0m\u001b[0;34m(\u001b[0m\u001b[0mself\u001b[0m\u001b[0;34m.\u001b[0m\u001b[0mstdin_socket\u001b[0m\u001b[0;34m,\u001b[0m \u001b[0;36m0\u001b[0m\u001b[0;34m)\u001b[0m\u001b[0;34m\u001b[0m\u001b[0;34m\u001b[0m\u001b[0m\n\u001b[0m\u001b[1;32m    730\u001b[0m             \u001b[0;32mexcept\u001b[0m \u001b[0mException\u001b[0m\u001b[0;34m:\u001b[0m\u001b[0;34m\u001b[0m\u001b[0;34m\u001b[0m\u001b[0m\n",
            "\u001b[0;32m/usr/local/lib/python3.7/dist-packages/jupyter_client/session.py\u001b[0m in \u001b[0;36mrecv\u001b[0;34m(self, socket, mode, content, copy)\u001b[0m\n\u001b[1;32m    802\u001b[0m         \u001b[0;32mtry\u001b[0m\u001b[0;34m:\u001b[0m\u001b[0;34m\u001b[0m\u001b[0;34m\u001b[0m\u001b[0m\n\u001b[0;32m--> 803\u001b[0;31m             \u001b[0mmsg_list\u001b[0m \u001b[0;34m=\u001b[0m \u001b[0msocket\u001b[0m\u001b[0;34m.\u001b[0m\u001b[0mrecv_multipart\u001b[0m\u001b[0;34m(\u001b[0m\u001b[0mmode\u001b[0m\u001b[0;34m,\u001b[0m \u001b[0mcopy\u001b[0m\u001b[0;34m=\u001b[0m\u001b[0mcopy\u001b[0m\u001b[0;34m)\u001b[0m\u001b[0;34m\u001b[0m\u001b[0;34m\u001b[0m\u001b[0m\n\u001b[0m\u001b[1;32m    804\u001b[0m         \u001b[0;32mexcept\u001b[0m \u001b[0mzmq\u001b[0m\u001b[0;34m.\u001b[0m\u001b[0mZMQError\u001b[0m \u001b[0;32mas\u001b[0m \u001b[0me\u001b[0m\u001b[0;34m:\u001b[0m\u001b[0;34m\u001b[0m\u001b[0;34m\u001b[0m\u001b[0m\n",
            "\u001b[0;32m/usr/local/lib/python3.7/dist-packages/zmq/sugar/socket.py\u001b[0m in \u001b[0;36mrecv_multipart\u001b[0;34m(self, flags, copy, track)\u001b[0m\n\u001b[1;32m    624\u001b[0m         \"\"\"\n\u001b[0;32m--> 625\u001b[0;31m         \u001b[0mparts\u001b[0m \u001b[0;34m=\u001b[0m \u001b[0;34m[\u001b[0m\u001b[0mself\u001b[0m\u001b[0;34m.\u001b[0m\u001b[0mrecv\u001b[0m\u001b[0;34m(\u001b[0m\u001b[0mflags\u001b[0m\u001b[0;34m,\u001b[0m \u001b[0mcopy\u001b[0m\u001b[0;34m=\u001b[0m\u001b[0mcopy\u001b[0m\u001b[0;34m,\u001b[0m \u001b[0mtrack\u001b[0m\u001b[0;34m=\u001b[0m\u001b[0mtrack\u001b[0m\u001b[0;34m)\u001b[0m\u001b[0;34m]\u001b[0m\u001b[0;34m\u001b[0m\u001b[0;34m\u001b[0m\u001b[0m\n\u001b[0m\u001b[1;32m    626\u001b[0m         \u001b[0;31m# have first part already, only loop while more to receive\u001b[0m\u001b[0;34m\u001b[0m\u001b[0;34m\u001b[0m\u001b[0;34m\u001b[0m\u001b[0m\n",
            "\u001b[0;32mzmq/backend/cython/socket.pyx\u001b[0m in \u001b[0;36mzmq.backend.cython.socket.Socket.recv\u001b[0;34m()\u001b[0m\n",
            "\u001b[0;32mzmq/backend/cython/socket.pyx\u001b[0m in \u001b[0;36mzmq.backend.cython.socket.Socket.recv\u001b[0;34m()\u001b[0m\n",
            "\u001b[0;32mzmq/backend/cython/socket.pyx\u001b[0m in \u001b[0;36mzmq.backend.cython.socket._recv_copy\u001b[0;34m()\u001b[0m\n",
            "\u001b[0;32m/usr/local/lib/python3.7/dist-packages/zmq/backend/cython/checkrc.pxd\u001b[0m in \u001b[0;36mzmq.backend.cython.checkrc._check_rc\u001b[0;34m()\u001b[0m\n",
            "\u001b[0;31mKeyboardInterrupt\u001b[0m: ",
            "\nDuring handling of the above exception, another exception occurred:\n",
            "\u001b[0;31mKeyboardInterrupt\u001b[0m                         Traceback (most recent call last)",
            "\u001b[0;32m<ipython-input-143-0c2066717c66>\u001b[0m in \u001b[0;36m<module>\u001b[0;34m()\u001b[0m\n\u001b[0;32m----> 1\u001b[0;31m \u001b[0mgen\u001b[0m\u001b[0;34m(\u001b[0m\u001b[0;34m)\u001b[0m\u001b[0;34m\u001b[0m\u001b[0;34m\u001b[0m\u001b[0m\n\u001b[0m",
            "\u001b[0;32m<ipython-input-142-0b25be4d8218>\u001b[0m in \u001b[0;36mgen\u001b[0;34m()\u001b[0m\n\u001b[1;32m    111\u001b[0m     \u001b[0mprint\u001b[0m\u001b[0;34m(\u001b[0m\u001b[0;34mf'* {greeting} *'\u001b[0m\u001b[0;34m)\u001b[0m\u001b[0;34m\u001b[0m\u001b[0;34m\u001b[0m\u001b[0m\n\u001b[1;32m    112\u001b[0m     \u001b[0mprint\u001b[0m\u001b[0;34m(\u001b[0m\u001b[0;34m\"*\"\u001b[0m \u001b[0;34m*\u001b[0m \u001b[0;34m(\u001b[0m\u001b[0mlen\u001b[0m\u001b[0;34m(\u001b[0m\u001b[0mgreeting\u001b[0m\u001b[0;34m)\u001b[0m \u001b[0;34m+\u001b[0m \u001b[0;36m4\u001b[0m\u001b[0;34m)\u001b[0m\u001b[0;34m)\u001b[0m\u001b[0;34m\u001b[0m\u001b[0;34m\u001b[0m\u001b[0m\n\u001b[0;32m--> 113\u001b[0;31m     \u001b[0mpsw_quantity\u001b[0m \u001b[0;34m=\u001b[0m \u001b[0mf_isdigit\u001b[0m\u001b[0;34m(\u001b[0m\u001b[0mquestions_1\u001b[0m\u001b[0;34m)\u001b[0m                                       \u001b[0;31m# количество паролей\u001b[0m\u001b[0;34m\u001b[0m\u001b[0;34m\u001b[0m\u001b[0m\n\u001b[0m\u001b[1;32m    114\u001b[0m     \u001b[0mlength\u001b[0m \u001b[0;34m=\u001b[0m \u001b[0mf_isdigit\u001b[0m\u001b[0;34m(\u001b[0m\u001b[0mquestions_2\u001b[0m\u001b[0;34m)\u001b[0m                                             \u001b[0;31m# длина паролей\u001b[0m\u001b[0;34m\u001b[0m\u001b[0;34m\u001b[0m\u001b[0m\n\u001b[1;32m    115\u001b[0m     \u001b[0mchars\u001b[0m \u001b[0;34m=\u001b[0m \u001b[0mfill_chars\u001b[0m\u001b[0;34m(\u001b[0m\u001b[0mquestion\u001b[0m\u001b[0;34m)\u001b[0m                                                \u001b[0;31m# список символов\u001b[0m\u001b[0;34m\u001b[0m\u001b[0;34m\u001b[0m\u001b[0m\n",
            "\u001b[0;32m<ipython-input-142-0b25be4d8218>\u001b[0m in \u001b[0;36mf_isdigit\u001b[0;34m(a)\u001b[0m\n\u001b[1;32m     35\u001b[0m   \u001b[0mflag\u001b[0m \u001b[0;34m=\u001b[0m \u001b[0;32mFalse\u001b[0m\u001b[0;34m\u001b[0m\u001b[0;34m\u001b[0m\u001b[0m\n\u001b[1;32m     36\u001b[0m   \u001b[0;32mwhile\u001b[0m \u001b[0mflag\u001b[0m \u001b[0;34m==\u001b[0m \u001b[0;32mFalse\u001b[0m\u001b[0;34m:\u001b[0m\u001b[0;34m\u001b[0m\u001b[0;34m\u001b[0m\u001b[0m\n\u001b[0;32m---> 37\u001b[0;31m     \u001b[0ms\u001b[0m \u001b[0;34m=\u001b[0m \u001b[0minput\u001b[0m\u001b[0;34m(\u001b[0m\u001b[0;34mf'{a} \\n'\u001b[0m\u001b[0;34m)\u001b[0m\u001b[0;34m\u001b[0m\u001b[0;34m\u001b[0m\u001b[0m\n\u001b[0m\u001b[1;32m     38\u001b[0m     \u001b[0;32mif\u001b[0m \u001b[0ms\u001b[0m\u001b[0;34m.\u001b[0m\u001b[0misdigit\u001b[0m\u001b[0;34m(\u001b[0m\u001b[0;34m)\u001b[0m \u001b[0;32mand\u001b[0m \u001b[0ms\u001b[0m \u001b[0;34m!=\u001b[0m \u001b[0;34m'0'\u001b[0m\u001b[0;34m:\u001b[0m\u001b[0;34m\u001b[0m\u001b[0;34m\u001b[0m\u001b[0m\n\u001b[1;32m     39\u001b[0m       \u001b[0;32mreturn\u001b[0m \u001b[0mint\u001b[0m\u001b[0;34m(\u001b[0m\u001b[0ms\u001b[0m\u001b[0;34m)\u001b[0m\u001b[0;34m\u001b[0m\u001b[0;34m\u001b[0m\u001b[0m\n",
            "\u001b[0;32m/usr/local/lib/python3.7/dist-packages/ipykernel/kernelbase.py\u001b[0m in \u001b[0;36mraw_input\u001b[0;34m(self, prompt)\u001b[0m\n\u001b[1;32m    702\u001b[0m             \u001b[0mself\u001b[0m\u001b[0;34m.\u001b[0m\u001b[0m_parent_ident\u001b[0m\u001b[0;34m,\u001b[0m\u001b[0;34m\u001b[0m\u001b[0;34m\u001b[0m\u001b[0m\n\u001b[1;32m    703\u001b[0m             \u001b[0mself\u001b[0m\u001b[0;34m.\u001b[0m\u001b[0m_parent_header\u001b[0m\u001b[0;34m,\u001b[0m\u001b[0;34m\u001b[0m\u001b[0;34m\u001b[0m\u001b[0m\n\u001b[0;32m--> 704\u001b[0;31m             \u001b[0mpassword\u001b[0m\u001b[0;34m=\u001b[0m\u001b[0;32mFalse\u001b[0m\u001b[0;34m,\u001b[0m\u001b[0;34m\u001b[0m\u001b[0;34m\u001b[0m\u001b[0m\n\u001b[0m\u001b[1;32m    705\u001b[0m         )\n\u001b[1;32m    706\u001b[0m \u001b[0;34m\u001b[0m\u001b[0m\n",
            "\u001b[0;32m/usr/local/lib/python3.7/dist-packages/ipykernel/kernelbase.py\u001b[0m in \u001b[0;36m_input_request\u001b[0;34m(self, prompt, ident, parent, password)\u001b[0m\n\u001b[1;32m    732\u001b[0m             \u001b[0;32mexcept\u001b[0m \u001b[0mKeyboardInterrupt\u001b[0m\u001b[0;34m:\u001b[0m\u001b[0;34m\u001b[0m\u001b[0;34m\u001b[0m\u001b[0m\n\u001b[1;32m    733\u001b[0m                 \u001b[0;31m# re-raise KeyboardInterrupt, to truncate traceback\u001b[0m\u001b[0;34m\u001b[0m\u001b[0;34m\u001b[0m\u001b[0;34m\u001b[0m\u001b[0m\n\u001b[0;32m--> 734\u001b[0;31m                 \u001b[0;32mraise\u001b[0m \u001b[0mKeyboardInterrupt\u001b[0m\u001b[0;34m\u001b[0m\u001b[0;34m\u001b[0m\u001b[0m\n\u001b[0m\u001b[1;32m    735\u001b[0m             \u001b[0;32melse\u001b[0m\u001b[0;34m:\u001b[0m\u001b[0;34m\u001b[0m\u001b[0;34m\u001b[0m\u001b[0m\n\u001b[1;32m    736\u001b[0m                 \u001b[0;32mbreak\u001b[0m\u001b[0;34m\u001b[0m\u001b[0;34m\u001b[0m\u001b[0m\n",
            "\u001b[0;31mKeyboardInterrupt\u001b[0m: "
          ]
        }
      ]
    },
    {
      "cell_type": "code",
      "source": [
        "# Функция проверки числа на int. Возвращает True/False\n",
        "def f_isdigit(a):\n",
        "  flag = False\n",
        "  while flag == False:\n",
        "    s = input(f'{a} \\n')\n",
        "    if s.isdigit() and s != '0':\n",
        "      return int(s)\n",
        "      flag = True\n",
        "    else:\n",
        "      print('Только циферки больше нуля')"
      ],
      "metadata": {
        "id": "omeSEPYdeSVN"
      },
      "execution_count": null,
      "outputs": []
    },
    {
      "cell_type": "code",
      "source": [
        ""
      ],
      "metadata": {
        "id": "LVM8_R77p4Ut"
      },
      "execution_count": null,
      "outputs": []
    },
    {
      "cell_type": "code",
      "source": [
        "# функция проверки вопроса на да/нет. Возвращает да/нет\n",
        "\n",
        "def yes_no(a):\n",
        "    flag3 = False\n",
        "    while flag3 == False:\n",
        "        s = input(f'{a} \\n').lower()\n",
        "        if 'да' in s:\n",
        "            return 'да'\n",
        "            flag3 = True\n",
        "        elif 'нет' in s:\n",
        "            return 'нет'\n",
        "            flag3 = True\n",
        "        else:\n",
        "            print('Понимаю только \"да\" или \"нет\"')\n"
      ],
      "metadata": {
        "id": "VeBDK4yHeyKg"
      },
      "execution_count": null,
      "outputs": []
    },
    {
      "cell_type": "code",
      "source": [
        "\n",
        "def fill_chars(question):\n",
        "  chars = list()                                                                \n",
        "  answers = list()                                                              # ответы пользователя (локальные)\n",
        "  counter = 0\n",
        "  flag = False\n",
        "  while flag == False:\n",
        "    [answers.append(yes_no(questions[i])) for i in range(len(questions))]\n",
        "    for i in range(len(answers)):\n",
        "      if answers[i] == 'да':\n",
        "        chars.extend(symbols[i])\n",
        "      elif answers[i] == 'нет':\n",
        "        counter += 1\n",
        "    if counter == len(questions):\n",
        "      print('Из чего ж тогда делать???')\n",
        "      break\n",
        "    if yes_no(questions_3) == 'да':\n",
        "        for j in range(len(amb_symbol)):\n",
        "          if amb_symbol[j] in chars:\n",
        "            chars.remove(amb_symbol[j])\n",
        "    result = ''.join(chars)\n",
        "    return result\n",
        "    flag = True\n",
        "    \n"
      ],
      "metadata": {
        "id": "5BrLAviUj9EH"
      },
      "execution_count": null,
      "outputs": []
    },
    {
      "cell_type": "code",
      "source": [
        "def generate_password(length, chars):\n",
        "  psw = list()\n",
        "  for i in range(length):\n",
        "    num = random.randint(0, len(chars) - 1)\n",
        "    psw.append(chars[num])\n",
        "  result = ''.join(psw)\n",
        "  return result"
      ],
      "metadata": {
        "id": "1zuMQwOZ-VXL"
      },
      "execution_count": null,
      "outputs": []
    },
    {
      "cell_type": "code",
      "source": [
        "# Сборка\n",
        "\n",
        "def gen():\n",
        "  psw = list()\n",
        "  flag = False\n",
        "  greeting = 'Добро пожаловать в генератор паролей!'\n",
        "  print(\"*\" * (len(greeting) + 4))\n",
        "  print(f'* {greeting} *')\n",
        "  print(\"*\" * (len(greeting) + 4))\n",
        "  while flag == False:\n",
        "    psw_quantity = f_isdigit(questions_1)                                       # количество паролей\n",
        "    length = f_isdigit(questions_2)                                         # длина паролей\n",
        "    chars = fill_chars(question)                                                # список символов\n",
        "    for i in range(1, psw_quantity + 1):\n",
        "      psw.append(generate_password(length, chars))\n",
        "    flag = True\n",
        "  print('Ваши пароли:')\n",
        "  print(*psw, sep= '\\n')\n",
        "\n",
        "\n",
        "\n",
        "\n",
        "  "
      ],
      "metadata": {
        "id": "PhCyU8LNlAcs"
      },
      "execution_count": null,
      "outputs": []
    },
    {
      "cell_type": "code",
      "source": [
        " gen()\n",
        "\n"
      ],
      "metadata": {
        "colab": {
          "base_uri": "https://localhost:8080/"
        },
        "id": "SEqPGk_0kU36",
        "outputId": "b71238d7-dc68-4228-be37-f6a14692b168"
      },
      "execution_count": null,
      "outputs": [
        {
          "output_type": "stream",
          "name": "stdout",
          "text": [
            "*****************************************\n",
            "* Добро пожаловать в генератор паролей! *\n",
            "*****************************************\n",
            "Сколько нужно паролей? \n",
            "8\n",
            "Сколько символов должно быть в пароле? \n",
            "10\n",
            "Включать ли цифры? \n",
            "да\n",
            "Включать ли строчные буквы? \n",
            "нет\n",
            "Включать ли прописные буквы? \n",
            "нет\n",
            "Включать ли символы? \n",
            "да\n",
            "Исключать ли неоднозначные символы? \n",
            "да\n",
            "Ваши пароли:\n",
            "7!$?!8?-&9\n",
            "8=#%#=_6?5\n",
            "@7@&4!#?%4\n",
            "$--!7?84^*\n",
            "5?==9*@^87\n",
            "#*5@?-$7=*\n",
            "*52?%9&*9$\n",
            "$+#8742_#%\n"
          ]
        }
      ]
    },
    {
      "cell_type": "markdown",
      "source": [
        ""
      ],
      "metadata": {
        "id": "AkY8k21AkSqx"
      }
    }
  ]
}