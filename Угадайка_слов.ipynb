{
  "nbformat": 4,
  "nbformat_minor": 0,
  "metadata": {
    "colab": {
      "name": "Угадайка слов.ipynb",
      "provenance": [],
      "authorship_tag": "ABX9TyP5PegUz6hMAmrpUTC4WJlf",
      "include_colab_link": true
    },
    "kernelspec": {
      "name": "python3",
      "display_name": "Python 3"
    },
    "language_info": {
      "name": "python"
    }
  },
  "cells": [
    {
      "cell_type": "markdown",
      "metadata": {
        "id": "view-in-github",
        "colab_type": "text"
      },
      "source": [
        "<a href=\"https://colab.research.google.com/github/Boris1001/first_simples_games/blob/main/%D0%A3%D0%B3%D0%B0%D0%B4%D0%B0%D0%B9%D0%BA%D0%B0_%D1%81%D0%BB%D0%BE%D0%B2.ipynb\" target=\"_parent\"><img src=\"https://colab.research.google.com/assets/colab-badge.svg\" alt=\"Open In Colab\"/></a>"
      ]
    },
    {
      "cell_type": "code",
      "execution_count": null,
      "metadata": {
        "id": "AOFHPpPrZC4f"
      },
      "outputs": [],
      "source": [
        "import random\n"
      ]
    },
    {
      "cell_type": "code",
      "source": [
        "words = ['человек', 'работа', 'вопрос', 'сторона', 'страна', 'случай', 'голова',\n",
        "        'ребенок', 'система', 'отношение', 'женщина', 'деньги', 'машина', 'проблема',\n",
        "        'решение', 'история', 'власть', 'тысяча', 'возможность', 'результат',\n",
        "        'область', 'статья', 'компания', 'группа', 'развитие', 'процесс', 'условие',\n",
        "        'средство', 'начало', 'уровень', 'минута', 'качество', 'дорога', 'действие',\n",
        "        'государство', 'любовь', 'взгляд', 'общество', 'деятельность', 'организация',\n",
        "        'президент', 'комната', 'порядок', 'момент', 'письмо', 'помощь', 'ситуация',\n",
        "        'состояние', 'квартира', 'внимание', 'смерть', 'программа', 'задача',\n",
        "        'предприятие', 'разговор', 'правительство', 'производство', 'информация',\n",
        "        'положение', 'интерес', 'федерация', 'правило', 'управление', 'мужчина',\n",
        "        'партия', 'сердце', 'движение', 'материал', 'неделя', 'чувство', 'газета',\n",
        "        'причина', 'основа', 'товарищ', 'культура', 'данные', 'мнение', 'документ',\n",
        "        'институт', 'проект', 'встреча', 'директор', 'служба', 'судьба', 'девушка',\n",
        "        'очередь', 'состав', 'количество', 'событие', 'объект', 'создание', 'значение',\n",
        "        'период', 'искусство', 'структура', 'пример', 'исследование', 'гражданин',\n",
        "        'начальник', 'принцип', 'воздух', 'характер', 'борьба', 'использование',\n",
        "        'размер', 'образование', 'мальчик', 'представитель', 'участие', 'девочка',\n",
        "        'политика', 'картина', 'доллар', 'территория', 'изменение', 'направление',\n",
        "        'рисунок', 'течение', 'церковь', 'население', 'большинство', 'музыка',\n",
        "        'правда', 'свобода', 'память', 'команда', 'договор', 'дерево', 'хозяин',\n",
        "        'природа', 'телефон', 'позиция', 'писатель', 'самолет', 'солнце', 'спектакль',\n",
        "        'способ', 'журнал', 'руководитель', 'специалист', 'оценка', 'регион', 'процент',\n",
        "        'родитель', 'требование', 'основание', 'половина', 'анализ', 'автомобиль',\n",
        "        'экономика', 'литература', 'бумага', 'степень', 'господин', 'надежда',\n",
        "        'предмет', 'руководство', 'площадь', 'режиссер', 'поверхность', 'ощущение',\n",
        "        'станция', 'революция', 'колено', 'министерство', 'стекло']"
      ],
      "metadata": {
        "id": "eTczTjRdZMvM"
      },
      "execution_count": null,
      "outputs": []
    },
    {
      "cell_type": "code",
      "source": [
        "def get_word(a):\n",
        "  n = random.randint(0, len(a) - 1)\n",
        "  return a[n].upper()\n"
      ],
      "metadata": {
        "id": "zsLoA3V5aBX4"
      },
      "execution_count": null,
      "outputs": []
    },
    {
      "cell_type": "code",
      "source": [
        "def display_hangman(tries):\n",
        "    stages = [  # финальное состояние: голова, торс, обе руки, обе ноги\n",
        "                '''\n",
        "                   --------\n",
        "                   |      |\n",
        "                   |      O\n",
        "                   |     \\\\|/\n",
        "                   |      |\n",
        "                   |     / \\\\\n",
        "                   -\n",
        "                ''',\n",
        "                # голова, торс, обе руки, одна нога\n",
        "                '''\n",
        "                   --------\n",
        "                   |      |\n",
        "                   |      O\n",
        "                   |     \\\\|/\n",
        "                   |      |\n",
        "                   |     / \n",
        "                   -\n",
        "                ''',\n",
        "                # голова, торс, обе руки\n",
        "                '''\n",
        "                   --------\n",
        "                   |      |\n",
        "                   |      O\n",
        "                   |     \\\\|/\n",
        "                   |      |\n",
        "                   |      \n",
        "                   -\n",
        "                ''',\n",
        "                # голова, торс и одна рука\n",
        "                '''\n",
        "                   --------\n",
        "                   |      |\n",
        "                   |      O\n",
        "                   |     \\\\|\n",
        "                   |      |\n",
        "                   |     \n",
        "                   -\n",
        "                ''',\n",
        "                # голова и торс\n",
        "                '''\n",
        "                   --------\n",
        "                   |      |\n",
        "                   |      O\n",
        "                   |      |\n",
        "                   |      |\n",
        "                   |     \n",
        "                   -\n",
        "                ''',\n",
        "                # голова\n",
        "                '''\n",
        "                   --------\n",
        "                   |      |\n",
        "                   |      O\n",
        "                   |    \n",
        "                   |      \n",
        "                   |     \n",
        "                   -\n",
        "                ''',\n",
        "                # начальное состояние\n",
        "                '''\n",
        "                   --------\n",
        "                   |      |\n",
        "                   |      \n",
        "                   |    \n",
        "                   |      \n",
        "                   |     \n",
        "                   -\n",
        "                '''\n",
        "    ]\n",
        "    return stages[tries]"
      ],
      "metadata": {
        "id": "ZphOAZpQbXAu"
      },
      "execution_count": null,
      "outputs": []
    },
    {
      "cell_type": "code",
      "source": [
        "# --------------------------------------\n",
        "# Функция повтора\n",
        "\n",
        "def repeat():\n",
        "    print()\n",
        "    print('Хотите сыграть ещё? Введите \"да\"')\n",
        "    print()\n",
        "    print('Надоело? Введите \"нет\"')\n",
        "    print()\n",
        "    flag3 = False\n",
        "    while flag3 == False:\n",
        "        s = input().lower()\n",
        "        if 'да' in s:\n",
        "            print('')\n",
        "            print('Понеслась!')\n",
        "            print('')\n",
        "            return False\n",
        "            flag3 = True\n",
        "        elif 'нет' in s:\n",
        "            print('')\n",
        "            print('Спасибо, что играли в угадайку. Еще увидимся...')\n",
        "            print('')\n",
        "            return True\n",
        "            flag3 = True\n",
        "        else:\n",
        "            print('Понимаю только \"да\" или \"нет\"')"
      ],
      "metadata": {
        "id": "4WWaUm2s2t8Q"
      },
      "execution_count": null,
      "outputs": []
    },
    {
      "cell_type": "code",
      "source": [
        ""
      ],
      "metadata": {
        "colab": {
          "base_uri": "https://localhost:8080/",
          "height": 34
        },
        "id": "oE5PDrF4abbU",
        "outputId": "796937eb-34ba-4fd6-bbcc-b7e09851e1df"
      },
      "execution_count": null,
      "outputs": [
        {
          "output_type": "execute_result",
          "data": {
            "text/plain": [
              "'РЕЗУЛЬТАТ'"
            ],
            "application/vnd.google.colaboratory.intrinsic+json": {
              "type": "string"
            }
          },
          "metadata": {},
          "execution_count": 5
        }
      ]
    },
    {
      "cell_type": "code",
      "source": [
        "def play():\n",
        "  a = 'Сыграм ещё? )'\n",
        "  tries = 6\n",
        "  flag = False\n",
        "  greeting = 'Добро пожаловать в угадайку!'\n",
        "  while flag == False:\n",
        "    print(\"*\" * (len(greeting) + 4))\n",
        "    print(f'* {greeting} *')\n",
        "    print(\"*\" * (len(greeting) + 4))\n",
        "    word = get_word(words).lower()\n",
        "    print(f'Загадано слово из {len(word)} букв')\n",
        "    print()\n",
        "    quast = list(word)\n",
        "    answer = list('_' * len(word))\n",
        "    print(answer)\n",
        "    print(display_hangman(tries))\n",
        "    print()\n",
        "    while tries > 0 and answer != quast:                   \n",
        "        letter = input('Введите букву:  ').lower()\n",
        "        print()\n",
        "        if letter in word:\n",
        "            for i in range(len(word)):\n",
        "                if letter == word[i]:\n",
        "                    answer[i] = letter\n",
        "            print('Поздравляю, вы угадали!')\n",
        "            print()\n",
        "            print(answer)\n",
        "        elif letter not in word:\n",
        "            print('упс')\n",
        "            print()\n",
        "            print(f'Можно ошибиться ещё {tries} раз!')\n",
        "            tries -= 1\n",
        "            print(display_hangman(tries))\n",
        "    print()\n",
        "    print('Он был отличным парнем!')\n",
        "    print()\n",
        "    flag = repeat()\n",
        "            \n",
        "\n",
        "\n",
        "    "
      ],
      "metadata": {
        "id": "UBqmlip3az_j"
      },
      "execution_count": null,
      "outputs": []
    },
    {
      "cell_type": "code",
      "source": [
        "play()"
      ],
      "metadata": {
        "colab": {
          "base_uri": "https://localhost:8080/"
        },
        "id": "Zi_whqn72EJx",
        "outputId": "48993d8d-b3be-4665-8c18-ac0a20fae85d"
      },
      "execution_count": null,
      "outputs": [
        {
          "output_type": "stream",
          "name": "stdout",
          "text": [
            "********************************\n",
            "* Добро пожаловать в угадайку! *\n",
            "********************************\n",
            "Загадано слово из 7 букв\n",
            "\n",
            "['_', '_', '_', '_', '_', '_', '_']\n",
            "\n",
            "                   --------\n",
            "                   |      |\n",
            "                   |      \n",
            "                   |    \n",
            "                   |      \n",
            "                   |     \n",
            "                   -\n",
            "                \n",
            "\n",
            "команда\n",
            "Введите букву:  е\n",
            "\n",
            "упс\n",
            "\n",
            "Можно ошибиться ещё 6 раз!\n",
            "\n",
            "                   --------\n",
            "                   |      |\n",
            "                   |      O\n",
            "                   |    \n",
            "                   |      \n",
            "                   |     \n",
            "                   -\n",
            "                \n",
            "команда\n",
            "Введите букву:  е\n",
            "\n",
            "упс\n",
            "\n",
            "Можно ошибиться ещё 5 раз!\n",
            "\n",
            "                   --------\n",
            "                   |      |\n",
            "                   |      O\n",
            "                   |      |\n",
            "                   |      |\n",
            "                   |     \n",
            "                   -\n",
            "                \n",
            "команда\n",
            "Введите букву:  е\n",
            "\n",
            "упс\n",
            "\n",
            "Можно ошибиться ещё 4 раз!\n",
            "\n",
            "                   --------\n",
            "                   |      |\n",
            "                   |      O\n",
            "                   |     \\|\n",
            "                   |      |\n",
            "                   |     \n",
            "                   -\n",
            "                \n",
            "команда\n",
            "Введите букву:  е\n",
            "\n",
            "упс\n",
            "\n",
            "Можно ошибиться ещё 3 раз!\n",
            "\n",
            "                   --------\n",
            "                   |      |\n",
            "                   |      O\n",
            "                   |     \\|/\n",
            "                   |      |\n",
            "                   |      \n",
            "                   -\n",
            "                \n",
            "команда\n",
            "Введите букву:  е\n",
            "\n",
            "упс\n",
            "\n",
            "Можно ошибиться ещё 2 раз!\n",
            "\n",
            "                   --------\n",
            "                   |      |\n",
            "                   |      O\n",
            "                   |     \\|/\n",
            "                   |      |\n",
            "                   |     / \n",
            "                   -\n",
            "                \n",
            "команда\n",
            "Введите букву:  е\n",
            "\n",
            "упс\n",
            "\n",
            "Можно ошибиться ещё 1 раз!\n",
            "\n",
            "                   --------\n",
            "                   |      |\n",
            "                   |      O\n",
            "                   |     \\|/\n",
            "                   |      |\n",
            "                   |     / \\\n",
            "                   -\n",
            "                \n",
            "\n",
            "Хотите сыграть ещё? Введите \"да\"\n",
            "\n",
            "Надоело? Введите \"нет\"\n",
            "\n",
            "нет\n",
            "\n",
            "Спасибо, что играли в угадайку. Еще увидимся...\n",
            "\n"
          ]
        }
      ]
    },
    {
      "cell_type": "code",
      "source": [
        "word = get_word(words)"
      ],
      "metadata": {
        "id": "ythUvkkj1XjE"
      },
      "execution_count": null,
      "outputs": []
    },
    {
      "cell_type": "code",
      "source": [
        "answer = list('_' * len(word))\n",
        "print(answer)\n",
        "quast = list(word)\n",
        "print(quast)"
      ],
      "metadata": {
        "colab": {
          "base_uri": "https://localhost:8080/"
        },
        "id": "3VWVoZCxw-ZU",
        "outputId": "3eeafccf-1690-49b5-ddae-63eeea5b3ea0"
      },
      "execution_count": null,
      "outputs": [
        {
          "output_type": "stream",
          "name": "stdout",
          "text": [
            "['_', '_', '_', '_', '_', '_', '_', '_']\n",
            "['Р', 'А', 'З', 'Г', 'О', 'В', 'О', 'Р']\n"
          ]
        }
      ]
    }
  ]
}